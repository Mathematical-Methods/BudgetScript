{
 "cells": [
  {
   "cell_type": "code",
   "execution_count": 2,
   "metadata": {},
   "outputs": [],
   "source": [
    "import numpy as np\n",
    "import os\n",
    "\n",
    "from tflite_model_maker import model_spec\n",
    "from tflite_model_maker import text_classifier\n",
    "from tflite_model_maker.config import ExportFormat\n",
    "from tflite_model_maker.text_classifier import AverageWordVecSpec\n",
    "from tflite_model_maker.text_classifier import DataLoader\n",
    "\n",
    "from tflite_support.task import core\n",
    "from tflite_support.task import processor\n",
    "from tflite_support.task import text\n",
    "\n",
    "import tensorflow as tf\n",
    "assert tf.__version__.startswith('2')\n",
    "tf.get_logger().setLevel('ERROR')"
   ]
  },
  {
   "cell_type": "code",
   "execution_count": 3,
   "metadata": {},
   "outputs": [
    {
     "name": "stdout",
     "output_type": "stream",
     "text": [
      "Downloading data from https://dl.fbaipublicfiles.com/glue/data/SST-2.zip\n",
      "7446528/7439277 [==============================] - 2s 0us/step\n",
      "7454720/7439277 [==============================] - 2s 0us/step\n"
     ]
    }
   ],
   "source": [
    "data_dir = tf.keras.utils.get_file(\n",
    "      fname='SST-2.zip',\n",
    "      origin='https://dl.fbaipublicfiles.com/glue/data/SST-2.zip',\n",
    "      extract=True)\n",
    "data_dir = os.path.join(os.path.dirname(data_dir), 'SST-2')"
   ]
  },
  {
   "cell_type": "code",
   "execution_count": 4,
   "metadata": {},
   "outputs": [],
   "source": [
    "import pandas as pd\n",
    "\n",
    "def replace_label(original_file, new_file):\n",
    "  # Load the original file to pandas. We need to specify the separator as\n",
    "  # '\\t' as the training data is stored in TSV format\n",
    "  df = pd.read_csv(original_file, sep='\\t')\n",
    "\n",
    "  # Define how we want to change the label name\n",
    "  label_map = {0: 'negative', 1: 'positive'}\n",
    "\n",
    "  # Excute the label change\n",
    "  df.replace({'label': label_map}, inplace=True)\n",
    "\n",
    "  # Write the updated dataset to a new file\n",
    "  df.to_csv(new_file)\n",
    "\n",
    "# Replace the label name for both the training and test dataset. Then write the\n",
    "# updated CSV dataset to the current folder.\n",
    "replace_label(os.path.join(os.path.join(data_dir, 'train.tsv')), 'train.csv')\n",
    "replace_label(os.path.join(os.path.join(data_dir, 'dev.tsv')), 'dev.csv')\n"
   ]
  },
  {
   "cell_type": "code",
   "execution_count": 5,
   "metadata": {},
   "outputs": [],
   "source": [
    "spec = model_spec.get('average_word_vec')"
   ]
  },
  {
   "cell_type": "code",
   "execution_count": 6,
   "metadata": {},
   "outputs": [
    {
     "name": "stderr",
     "output_type": "stream",
     "text": [
      "2024-07-07 22:01:20.334969: W tensorflow/stream_executor/platform/default/dso_loader.cc:64] Could not load dynamic library 'libcuda.so.1'; dlerror: libcuda.so.1: cannot open shared object file: No such file or directory; LD_LIBRARY_PATH: /home/unknown/Documents/00.Repositories/BudgetScript/.venv/lib/python3.9/site-packages/cv2/../../lib64:\n",
      "2024-07-07 22:01:20.334999: W tensorflow/stream_executor/cuda/cuda_driver.cc:269] failed call to cuInit: UNKNOWN ERROR (303)\n",
      "2024-07-07 22:01:20.335045: I tensorflow/stream_executor/cuda/cuda_diagnostics.cc:156] kernel driver does not appear to be running on this host (unknown): /proc/driver/nvidia/version does not exist\n",
      "2024-07-07 22:01:20.335388: I tensorflow/core/platform/cpu_feature_guard.cc:151] This TensorFlow binary is optimized with oneAPI Deep Neural Network Library (oneDNN) to use the following CPU instructions in performance-critical operations:  AVX2 FMA\n",
      "To enable them in other operations, rebuild TensorFlow with the appropriate compiler flags.\n"
     ]
    }
   ],
   "source": [
    "train_data = DataLoader.from_csv(\n",
    "      filename='train.csv',\n",
    "      text_column='sentence',\n",
    "      label_column='label',\n",
    "      model_spec=spec,\n",
    "      is_training=True)\n",
    "test_data = DataLoader.from_csv(\n",
    "      filename='dev.csv',\n",
    "      text_column='sentence',\n",
    "      label_column='label',\n",
    "      model_spec=spec,\n",
    "      is_training=False)\n"
   ]
  },
  {
   "cell_type": "code",
   "execution_count": 9,
   "metadata": {},
   "outputs": [
    {
     "name": "stdout",
     "output_type": "stream",
     "text": [
      "2104/2104 [==============================] - 6s 3ms/step - loss: 0.6812 - accuracy: 0.5628\n",
      "Epoch 2/2\n",
      "2104/2104 [==============================] - 6s 3ms/step - loss: 0.5898 - accuracy: 0.6930\n",
      "Epoch 3/3\n",
      "2104/2104 [==============================] - 6s 3ms/step - loss: 0.4691 - accuracy: 0.7771\n",
      "Epoch 4/4\n",
      "2104/2104 [==============================] - 6s 3ms/step - loss: 0.4131 - accuracy: 0.8145\n",
      "Epoch 5/5\n",
      "2104/2104 [==============================] - 6s 3ms/step - loss: 0.3849 - accuracy: 0.8333\n",
      "Epoch 6/6\n",
      "2104/2104 [==============================] - 6s 3ms/step - loss: 0.3679 - accuracy: 0.8455\n",
      "Epoch 7/7\n",
      "2104/2104 [==============================] - 6s 3ms/step - loss: 0.3582 - accuracy: 0.8509\n",
      "Epoch 8/8\n",
      "2104/2104 [==============================] - 6s 3ms/step - loss: 0.3511 - accuracy: 0.8557\n",
      "Epoch 9/9\n",
      "2104/2104 [==============================] - 6s 3ms/step - loss: 0.3430 - accuracy: 0.8604\n",
      "Epoch 10/10\n",
      "2104/2104 [==============================] - 6s 3ms/step - loss: 0.3388 - accuracy: 0.8614\n"
     ]
    }
   ],
   "source": [
    "model = text_classifier.create(train_data, model_spec=spec, epochs=10)"
   ]
  },
  {
   "cell_type": "code",
   "execution_count": 10,
   "metadata": {},
   "outputs": [
    {
     "name": "stdout",
     "output_type": "stream",
     "text": [
      "28/28 [==============================] - 0s 4ms/step - loss: 0.5195 - accuracy: 0.8303\n"
     ]
    }
   ],
   "source": [
    "loss, acc = model.evaluate(test_data)"
   ]
  },
  {
   "cell_type": "code",
   "execution_count": 11,
   "metadata": {},
   "outputs": [
    {
     "name": "stderr",
     "output_type": "stream",
     "text": [
      "2024-07-07 22:07:41.727717: W tensorflow/python/util/util.cc:368] Sets are not currently considered sequences, but this may change in the future, so consider avoiding using them.\n"
     ]
    },
    {
     "name": "stdout",
     "output_type": "stream",
     "text": [
      "Estimated count of arithmetic ops: 722  ops, equivalently 361  MACs\n"
     ]
    },
    {
     "name": "stderr",
     "output_type": "stream",
     "text": [
      "2024-07-07 22:07:42.394706: I tensorflow/core/grappler/devices.cc:66] Number of eligible GPUs (core count >= 8, compute capability >= 0.0): 0\n",
      "2024-07-07 22:07:42.394896: I tensorflow/core/grappler/clusters/single_machine.cc:358] Starting new session\n",
      "2024-07-07 22:07:42.397027: I tensorflow/core/grappler/optimizers/meta_optimizer.cc:1164] Optimization results for grappler item: graph_to_optimize\n",
      "  function_optimizer: function_optimizer did nothing. time = 0.024ms.\n",
      "  function_optimizer: function_optimizer did nothing. time = 0.004ms.\n",
      "\n",
      "2024-07-07 22:07:42.435068: W tensorflow/compiler/mlir/lite/python/tf_tfl_flatbuffer_helpers.cc:357] Ignored output_format.\n",
      "2024-07-07 22:07:42.435118: W tensorflow/compiler/mlir/lite/python/tf_tfl_flatbuffer_helpers.cc:360] Ignored drop_control_dependency.\n",
      "2024-07-07 22:07:42.455160: I tensorflow/compiler/mlir/lite/flatbuffer_export.cc:1963] Estimated count of arithmetic ops: 722  ops, equivalently 361  MACs\n",
      "\n"
     ]
    }
   ],
   "source": [
    "model.export(export_dir='average_word_vec')"
   ]
  },
  {
   "cell_type": "code",
   "execution_count": 13,
   "metadata": {},
   "outputs": [
    {
     "data": {
      "text/html": [
       "<div>\n",
       "<style scoped>\n",
       "    .dataframe tbody tr th:only-of-type {\n",
       "        vertical-align: middle;\n",
       "    }\n",
       "\n",
       "    .dataframe tbody tr th {\n",
       "        vertical-align: top;\n",
       "    }\n",
       "\n",
       "    .dataframe thead th {\n",
       "        text-align: right;\n",
       "    }\n",
       "</style>\n",
       "<table border=\"1\" class=\"dataframe\">\n",
       "  <thead>\n",
       "    <tr style=\"text-align: right;\">\n",
       "      <th></th>\n",
       "      <th>sentence</th>\n",
       "      <th>label</th>\n",
       "    </tr>\n",
       "  </thead>\n",
       "  <tbody>\n",
       "    <tr>\n",
       "      <th>0</th>\n",
       "      <td>it 's a charming and often affecting journey .</td>\n",
       "      <td>positive</td>\n",
       "    </tr>\n",
       "    <tr>\n",
       "      <th>1</th>\n",
       "      <td>unflinchingly bleak and desperate</td>\n",
       "      <td>negative</td>\n",
       "    </tr>\n",
       "    <tr>\n",
       "      <th>2</th>\n",
       "      <td>allows us to hope that nolan is poised to emba...</td>\n",
       "      <td>positive</td>\n",
       "    </tr>\n",
       "    <tr>\n",
       "      <th>3</th>\n",
       "      <td>the acting , costumes , music , cinematography...</td>\n",
       "      <td>positive</td>\n",
       "    </tr>\n",
       "    <tr>\n",
       "      <th>4</th>\n",
       "      <td>it 's slow -- very , very slow .</td>\n",
       "      <td>negative</td>\n",
       "    </tr>\n",
       "    <tr>\n",
       "      <th>...</th>\n",
       "      <td>...</td>\n",
       "      <td>...</td>\n",
       "    </tr>\n",
       "    <tr>\n",
       "      <th>867</th>\n",
       "      <td>has all the depth of a wading pool .</td>\n",
       "      <td>negative</td>\n",
       "    </tr>\n",
       "    <tr>\n",
       "      <th>868</th>\n",
       "      <td>a movie with a real anarchic flair .</td>\n",
       "      <td>positive</td>\n",
       "    </tr>\n",
       "    <tr>\n",
       "      <th>869</th>\n",
       "      <td>a subject like this should inspire reaction in...</td>\n",
       "      <td>negative</td>\n",
       "    </tr>\n",
       "    <tr>\n",
       "      <th>870</th>\n",
       "      <td>... is an arthritic attempt at directing by ca...</td>\n",
       "      <td>negative</td>\n",
       "    </tr>\n",
       "    <tr>\n",
       "      <th>871</th>\n",
       "      <td>looking aristocratic , luminous yet careworn i...</td>\n",
       "      <td>positive</td>\n",
       "    </tr>\n",
       "  </tbody>\n",
       "</table>\n",
       "<p>872 rows × 2 columns</p>\n",
       "</div>"
      ],
      "text/plain": [
       "                                              sentence     label\n",
       "0      it 's a charming and often affecting journey .   positive\n",
       "1                   unflinchingly bleak and desperate   negative\n",
       "2    allows us to hope that nolan is poised to emba...  positive\n",
       "3    the acting , costumes , music , cinematography...  positive\n",
       "4                    it 's slow -- very , very slow .   negative\n",
       "..                                                 ...       ...\n",
       "867              has all the depth of a wading pool .   negative\n",
       "868              a movie with a real anarchic flair .   positive\n",
       "869  a subject like this should inspire reaction in...  negative\n",
       "870  ... is an arthritic attempt at directing by ca...  negative\n",
       "871  looking aristocratic , luminous yet careworn i...  positive\n",
       "\n",
       "[872 rows x 2 columns]"
      ]
     },
     "execution_count": 13,
     "metadata": {},
     "output_type": "execute_result"
    }
   ],
   "source": [
    "sentence_data = pd.read_csv('dev.csv', index_col=0)\n",
    "sentence_data"
   ]
  },
  {
   "cell_type": "code",
   "execution_count": 14,
   "metadata": {},
   "outputs": [],
   "source": [
    "# Name of the TFLite text classification model.\n",
    "_MODEL = './average_word_vec/model.tflite'\n",
    "# Whether to run the model on EdgeTPU.\n",
    "_ENABLE_EDGETPU = False\n",
    "# Number of CPU threads to run the model.\n",
    "_NUM_THREADS = 4\n"
   ]
  },
  {
   "cell_type": "code",
   "execution_count": 15,
   "metadata": {},
   "outputs": [
    {
     "name": "stderr",
     "output_type": "stream",
     "text": [
      "INFO: Created TensorFlow Lite XNNPACK delegate for CPU.\n"
     ]
    }
   ],
   "source": [
    "# Initialize the text classification model.\n",
    "base_options = core.BaseOptions(file_name=_MODEL, use_coral=_ENABLE_EDGETPU, num_threads=_NUM_THREADS)\n",
    "options = text.NLClassifierOptions(base_options)\n",
    "\n",
    "# Create NLClassifier from options.\n",
    "classifier = text.NLClassifier.create_from_options(options)\n"
   ]
  },
  {
   "cell_type": "code",
   "execution_count": 18,
   "metadata": {},
   "outputs": [
    {
     "name": "stdout",
     "output_type": "stream",
     "text": [
      "it 's a charming and often affecting journey . positive\n",
      "predict_label: positive\n",
      "unflinchingly bleak and desperate negative\n",
      "predict_label: negative\n",
      "allows us to hope that nolan is poised to embark a major career as a commercial yet inventive filmmaker . positive\n",
      "predict_label: positive\n",
      "the acting , costumes , music , cinematography and sound are all astounding given the production 's austere locales . positive\n",
      "predict_label: positive\n",
      "it 's slow -- very , very slow . negative\n",
      "predict_label: negative\n",
      "although laced with humor and a few fanciful touches , the film is a refreshingly serious look at young women . positive\n",
      "predict_label: positive\n",
      "a sometimes tedious film . negative\n",
      "predict_label: negative\n",
      "or doing last year 's taxes with your ex-wife . negative\n",
      "predict_label: negative\n",
      "you do n't have to know about music to appreciate the film 's easygoing blend of comedy and romance . positive\n",
      "predict_label: positive\n",
      "in exactly 89 minutes , most of which passed as slowly as if i 'd been sitting naked on an igloo , formula 51 sank from quirky to jerky to utter turkey . negative\n",
      "predict_label: negative\n",
      "the mesmerizing performances of the leads keep the film grounded and keep the audience riveted . positive\n",
      "predict_label: positive\n",
      "it takes a strange kind of laziness to waste the talents of robert forster , anne meara , eugene levy , and reginald veljohnson all in the same movie . negative\n",
      "predict_label: negative\n",
      "... the film suffers from a lack of humor ( something needed to balance out the violence ) ... negative\n",
      "predict_label: negative\n",
      "we root for ( clara and paul ) , even like them , though perhaps it 's an emotion closer to pity . positive\n",
      "predict_label: positive\n",
      "even horror fans will most likely not find what they 're seeking with trouble every day ; the movie lacks both thrills and humor . negative\n",
      "predict_label: negative\n",
      "a gorgeous , high-spirited musical from india that exquisitely blends music , dance , song , and high drama . positive\n",
      "predict_label: positive\n",
      "the emotions are raw and will strike a nerve with anyone who 's ever had family trauma . positive\n",
      "predict_label: positive\n",
      "audrey tatou has a knack for picking roles that magnify her outrageous charm , and in this literate french comedy , she 's as morning-glory exuberant as she was in amélie . positive\n",
      "predict_label: positive\n",
      "... the movie is just a plain old monster . negative\n",
      "predict_label: negative\n",
      "in its best moments , resembles a bad high school production of grease , without benefit of song . negative\n",
      "predict_label: negative\n"
     ]
    }
   ],
   "source": [
    "for idx in range(20):\n",
    "  sentence = sentence_data['sentence'].iloc[idx]\n",
    "  label = sentence_data['label'].iloc[idx]\n",
    "  text_classification_result = classifier.classify(sentence)\n",
    "  classification_list = text_classification_result.classifications[0].categories\n",
    "\n",
    "  # Sort output by probability descending.\n",
    "  predict_label = sorted(\n",
    "      classification_list, key=lambda item: item.score, reverse=True)[0]\n",
    "  print(sentence + label)\n",
    "  print('predict_label: {}'.format(predict_label.category_name))"
   ]
  }
 ],
 "metadata": {
  "kernelspec": {
   "display_name": ".venv",
   "language": "python",
   "name": "python3"
  },
  "language_info": {
   "codemirror_mode": {
    "name": "ipython",
    "version": 3
   },
   "file_extension": ".py",
   "mimetype": "text/x-python",
   "name": "python",
   "nbconvert_exporter": "python",
   "pygments_lexer": "ipython3",
   "version": "3.9.18"
  }
 },
 "nbformat": 4,
 "nbformat_minor": 2
}
